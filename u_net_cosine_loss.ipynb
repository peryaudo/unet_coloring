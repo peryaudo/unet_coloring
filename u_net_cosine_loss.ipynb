{
 "cells": [
  {
   "cell_type": "code",
   "execution_count": 4,
   "id": "20287d21-f60d-4d28-8541-6833d65ebd76",
   "metadata": {
    "tags": []
   },
   "outputs": [],
   "source": [
    "from glob import glob\n",
    "\n",
    "import torch\n",
    "import torch.nn as nn\n",
    "import torch.nn.functional as F\n",
    "from torch.utils.data import Dataset, DataLoader\n",
    "from PIL import Image\n",
    "from pillow_heif import register_heif_opener\n",
    "import albumentations as A\n",
    "import numpy as np\n",
    "\n",
    "register_heif_opener()\n"
   ]
  },
  {
   "cell_type": "code",
   "execution_count": 5,
   "id": "169efaf6-6bc8-4cb8-9c4c-a4a7cc494649",
   "metadata": {
    "tags": []
   },
   "outputs": [],
   "source": [
    "device = torch.device(\"cuda\")\n",
    "\n",
    "class EncoderBlock(nn.Module):\n",
    "    def __init__(self, in_channels, out_channels):\n",
    "        super().__init__()\n",
    "        self.max_pool = nn.MaxPool2d(2)\n",
    "        self.conv1 = nn.Conv2d(in_channels, out_channels, 3, padding='same')\n",
    "        self.conv2 = nn.Conv2d(out_channels, out_channels, 3, padding='same')\n",
    "        self.bn1 = nn.BatchNorm2d(out_channels)\n",
    "        self.bn2 = nn.BatchNorm2d(out_channels)\n",
    "\n",
    "    def forward(self, x):\n",
    "        x = self.max_pool(x)\n",
    "        x = F.relu(self.bn1(self.conv1(x)))\n",
    "        x = F.relu(self.bn2(self.conv2(x)))\n",
    "        return x\n",
    "\n",
    "class DecoderBlock(nn.Module):\n",
    "    def __init__(self, in_channels, out_channels):\n",
    "        super().__init__()\n",
    "        self.up_conv = nn.ConvTranspose2d(in_channels, out_channels, 2, 2)\n",
    "        self.conv1 = nn.Conv2d(in_channels, out_channels, 3, padding='same')\n",
    "        self.conv2 = nn.Conv2d(out_channels, out_channels, 3, padding='same')\n",
    "        self.bn1 = nn.BatchNorm2d(out_channels)\n",
    "        self.bn2 = nn.BatchNorm2d(out_channels)\n",
    "\n",
    "    \n",
    "    def forward(self, x, resid):\n",
    "        x = F.relu(self.up_conv(x))\n",
    "        assert x.shape == resid.shape\n",
    "        x = torch.cat((resid, x), dim=1)\n",
    "        x = F.relu(self.bn1(self.conv1(x)))\n",
    "        x = F.relu(self.bn2(self.conv2(x)))\n",
    "        return x\n",
    "\n",
    "class UNet(nn.Module):\n",
    "    def __init__(self):\n",
    "        super().__init__()\n",
    "        self.conv1 = nn.Conv2d(1, 64, 3, padding='same')\n",
    "        self.conv2 = nn.Conv2d(64, 64, 3, padding='same')\n",
    "        self.bn1 = nn.BatchNorm2d(64)\n",
    "        self.bn2 = nn.BatchNorm2d(64)\n",
    "        self.enc1 = EncoderBlock(64, 128)\n",
    "        self.enc2 = EncoderBlock(128, 256)\n",
    "        self.enc3 = EncoderBlock(256, 512)\n",
    "        self.enc4 = EncoderBlock(512, 1024)\n",
    "        self.dec4 = DecoderBlock(1024, 512)\n",
    "        self.dec3 = DecoderBlock(512, 256)\n",
    "        self.dec2 = DecoderBlock(256, 128)\n",
    "        self.dec1 = DecoderBlock(128, 64)\n",
    "        self.head = nn.Conv2d(64, 3, 1, padding='same')\n",
    "\n",
    "    def forward(self, x):\n",
    "        x = F.relu(self.bn1(self.conv1(x)))\n",
    "        x = F.relu(self.bn2(self.conv2(x)))\n",
    "        x0 = x\n",
    "        x1 = self.enc1(x0)\n",
    "        x2 = self.enc2(x1)\n",
    "        x3 = self.enc3(x2)\n",
    "        x = self.enc4(x3)\n",
    "\n",
    "        x = self.dec4(x, x3)\n",
    "        x = self.dec3(x, x2)\n",
    "        x = self.dec2(x, x1)\n",
    "        x = self.dec1(x, x0)\n",
    "        x = F.softmax(self.head(x), dim=1)\n",
    "        return x"
   ]
  },
  {
   "cell_type": "code",
   "execution_count": 6,
   "id": "1bd8f0ac-6192-4a9b-a2b7-e6bc79771c03",
   "metadata": {
    "tags": []
   },
   "outputs": [],
   "source": [
    "model = UNet().to(device)"
   ]
  },
  {
   "cell_type": "code",
   "execution_count": 7,
   "id": "9d541299-2ddc-4dae-ab41-3c654a0f8c27",
   "metadata": {
    "tags": []
   },
   "outputs": [],
   "source": [
    "class ColoringDataset(Dataset):\n",
    "    def __init__(self, base_path):\n",
    "        self.image_paths = glob(\"%s/*\" % base_path)\n",
    "    def __len__(self):\n",
    "        return len(self.image_paths)\n",
    "    def __getitem__(self, idx):\n",
    "        image = Image.open(self.image_paths[idx])\n",
    "        image = image.resize((512,384))\n",
    "        grey_image = image.convert('L')\n",
    "\n",
    "        image = np.array(image, dtype=np.float32)\n",
    "        # image -= np.array([0.485, 0.456, 0.406]) * 255.0\n",
    "        # image /= np.array([0.229, 0.224, 0.225]) * 255.0\n",
    "        image = np.transpose(image, (2, 0, 1))\n",
    "\n",
    "        grey_image = np.array(grey_image, dtype=np.float32)\n",
    "        grey_image -= 0.449 * 255.0\n",
    "        grey_image /= 0.226 * 255.0\n",
    "        grey_image = np.transpose(grey_image, (0, 1))\n",
    "        grey_image = grey_image[None,]\n",
    "        return grey_image, image"
   ]
  },
  {
   "cell_type": "code",
   "execution_count": 8,
   "id": "b3f1120d-719f-40f3-a52c-64f3815cf3cd",
   "metadata": {
    "tags": []
   },
   "outputs": [],
   "source": [
    "train_dataset = ColoringDataset(\"train_images\")\n",
    "train_data_loader = DataLoader(dataset=train_dataset, batch_size=16, shuffle=True, num_workers=8)\n",
    "\n",
    "val_dataset = ColoringDataset(\"val_images\")\n",
    "val_data_loader = DataLoader(dataset=val_dataset, batch_size=16)"
   ]
  },
  {
   "cell_type": "code",
   "execution_count": null,
   "id": "3d0ebc5f-eef5-4f2a-b5ca-2e6d9f3c5411",
   "metadata": {},
   "outputs": [],
   "source": [
    "optimizer = torch.optim.Adam(model.parameters(), lr=1e-4)"
   ]
  },
  {
   "cell_type": "code",
   "execution_count": 17,
   "id": "0da3ec62-684a-4bd9-bc0f-e83e0372e529",
   "metadata": {
    "tags": []
   },
   "outputs": [
    {
     "name": "stdout",
     "output_type": "stream",
     "text": [
      "val loss:  -148483.796875\n",
      "val loss:  -124526.546875\n",
      "val loss:  -151035.0\n",
      "val loss:  -166368.921875\n",
      "val loss:  -146657.859375\n",
      "val loss:  -163769.875\n",
      "val loss:  -160920.34375\n",
      "val loss:  -88631.109375\n",
      "val loss:  -137103.28125\n",
      "val loss:  -158957.9375\n",
      "val loss:  -156818.375\n",
      "val loss:  -114574.09375\n",
      "val loss:  -135109.421875\n",
      "val loss:  -177089.1875\n",
      "val loss:  -104759.796875\n",
      "val loss:  -122101.6015625\n",
      "val loss:  -149201.296875\n",
      "val loss:  -154118.34375\n",
      "val loss:  -126286.8828125\n",
      "val loss:  -177296.75\n"
     ]
    }
   ],
   "source": [
    "NUM_EPOCH = 20\n",
    "for i in range(NUM_EPOCH):\n",
    "    model.eval()\n",
    "    for x, y in val_data_loader:\n",
    "        x = x.to(device)\n",
    "        y = y.to(device)\n",
    "    \n",
    "        with torch.no_grad():\n",
    "            outputs = model(x)\n",
    "            loss = -torch.sum(F.cosine_similarity(outputs, F.softmax(y, dim=1), dim=1))\n",
    "            print(\"val loss: \", loss.item())\n",
    "    \n",
    "    model.train()\n",
    "    for x, y in train_data_loader:\n",
    "        x = x.to(device)\n",
    "        y = y.to(device)\n",
    "    \n",
    "        optimizer.zero_grad()\n",
    "        outputs = model(x)\n",
    "        loss = -torch.sum(F.cosine_similarity(outputs, F.softmax(y, dim=1), dim=1))\n",
    "        loss.backward()\n",
    "        # print(\"train loss: \", loss.item())\n",
    "        optimizer.step()"
   ]
  },
  {
   "cell_type": "code",
   "execution_count": 18,
   "id": "2475118a-b791-419a-a17e-01237c52ca31",
   "metadata": {},
   "outputs": [
    {
     "data": {
      "image/png": "[encoded data removed]",
      "text/plain": [
       "<PIL.Image.Image image mode=RGB size=512x384>"
      ]
     },
     "execution_count": 18,
     "metadata": {},
     "output_type": "execute_result"
    }
   ],
   "source": [
    "x, y = next(iter(val_data_loader))\n",
    "x = x.to(device)\n",
    "\n",
    "with torch.no_grad():\n",
    "    output = model(x)\n",
    "    output = output * x * 3.0\n",
    "    output = output[0].permute((1, 2, 0))\n",
    "    output = torch.clamp(output.byte(), 0, 255)\n",
    "    output = output.cpu().numpy()\n",
    "\n",
    "Image.fromarray(output)"
   ]
  },
  {
   "cell_type": "code",
   "execution_count": 11,
   "id": "a2770261-04e0-4b00-b200-dd068c7d2c38",
   "metadata": {},
   "outputs": [
    {
     "data": {
      "text/plain": [
       "torch.Size([1, 3, 384, 512])"
      ]
     },
     "execution_count": 11,
     "metadata": {},
     "output_type": "execute_result"
    }
   ],
   "source": [
    "output.shape"
   ]
  },
  {
   "cell_type": "code",
   "execution_count": 12,
   "id": "23cedd91-6c9a-423f-b436-ea75098facc2",
   "metadata": {},
   "outputs": [
    {
     "data": {
      "text/plain": [
       "torch.Size([1, 1, 384, 512])"
      ]
     },
     "execution_count": 12,
     "metadata": {},
     "output_type": "execute_result"
    }
   ],
   "source": [
    "x.shape"
   ]
  },
  {
   "cell_type": "code",
   "execution_count": 15,
   "id": "2fcedb61-4e8e-494b-bd1d-14f327ecb554",
   "metadata": {},
   "outputs": [
    {
     "data": {
      "text/plain": [
       "torch.Size([1, 3, 384, 512])"
      ]
     },
     "execution_count": 15,
     "metadata": {},
     "output_type": "execute_result"
    }
   ],
   "source": [
    ".shape"
   ]
  },
  {
   "cell_type": "code",
   "execution_count": null,
   "id": "7361bec1-7bf0-490c-96c0-a7d6704dd661",
   "metadata": {},
   "outputs": [],
   "source": []
  }
 ],
 "metadata": {
  "kernelspec": {
   "display_name": "Python 3 (ipykernel)",
   "language": "python",
   "name": "python3"
  },
  "language_info": {
   "codemirror_mode": {
    "name": "ipython",
    "version": 3
   },
   "file_extension": ".py",
   "mimetype": "text/x-python",
   "name": "python",
   "nbconvert_exporter": "python",
   "pygments_lexer": "ipython3",
   "version": "3.11.6"
  }
 },
 "nbformat": 4,
 "nbformat_minor": 5
}
